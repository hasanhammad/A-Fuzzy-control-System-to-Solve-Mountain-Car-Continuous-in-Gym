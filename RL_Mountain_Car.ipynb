{
 "cells": [
  {
   "cell_type": "code",
   "execution_count": 1,
   "id": "5b3b4fd1",
   "metadata": {},
   "outputs": [],
   "source": [
    "# import libraries\n",
    "import gym\n",
    "import numpy as np\n",
    "import matplotlib.pyplot as plt\n",
    "import time"
   ]
  },
  {
   "cell_type": "code",
   "execution_count": 2,
   "id": "481a8459",
   "metadata": {},
   "outputs": [],
   "source": [
    "# Hyperparameters\n",
    "ALPHA = 0.25\n",
    "GAMMA = 0.9\n",
    "NUM_EPISODES = 500\n",
    "\n",
    "\n",
    "# values ranging from -1.2 to 0.6, altered by 0.1\n",
    "Q_VALUE_POSITIONS = 19\n",
    "\n",
    "# values ranging from -0.07 to 0.07, altered by 0.01\n",
    "Q_VALUE_VELOCITY = 15\n",
    "\n",
    "# 3 actions (0, 1 nad 2) available\n",
    "# it can either accelerate forwards, accelerate backwards, or do nothing\n",
    "Q_VALUE_ACTIONS = 3"
   ]
  },
  {
   "cell_type": "code",
   "execution_count": 3,
   "id": "fe71e403",
   "metadata": {},
   "outputs": [],
   "source": [
    "# create and initialize Q-values tensor\n",
    "q_values = np.zeros((Q_VALUE_POSITIONS, Q_VALUE_VELOCITY, Q_VALUE_ACTIONS))"
   ]
  },
  {
   "cell_type": "code",
   "execution_count": 4,
   "id": "2e425eae",
   "metadata": {},
   "outputs": [],
   "source": [
    "def get_values(raw_position, raw_velocity):\n",
    "    # round values to one/two digits after comma\n",
    "    rounded_position = round(raw_position, 1)\n",
    "    rounded_velocity = round(raw_velocity, 2)\n",
    "\n",
    "    # tuen the rounded values into index numbers\n",
    "    position = (rounded_position * np.power(10, 1) + 12)\n",
    "    velocity = (rounded_velocity * np.power(10, 2) + 7)\n",
    "\n",
    "    return int(position), int(velocity)"
   ]
  },
  {
   "cell_type": "code",
   "execution_count": 5,
   "id": "24c1a50a",
   "metadata": {},
   "outputs": [],
   "source": [
    "def get_action(state):\n",
    "    # current state\n",
    "    position, velocity = state\n",
    "    \n",
    "    # get the index of position and speed\n",
    "    position_index, velocity_index = get_values(position, velocity)\n",
    "    \n",
    "    # the best actions from Q_table\n",
    "    best_action = np.argmax(q_values[position_index, velocity_index, :])\n",
    "    \n",
    "    return best_action"
   ]
  },
  {
   "cell_type": "code",
   "execution_count": 6,
   "id": "c7b87a69",
   "metadata": {},
   "outputs": [],
   "source": [
    "def update_q_values(state, action, next_state, reward):\n",
    "    # current state\n",
    "    position, velocity = state\n",
    "    \n",
    "    # get the index of position and speed\n",
    "    position_index, velocity_index = get_values(position, velocity)\n",
    "    \n",
    "    # next state\n",
    "    next_position, next_velocity = next_state\n",
    "    \n",
    "    # get the index of position and speed\n",
    "    next_position_index, next_velocity_index = get_values(next_position, next_velocity)\n",
    "    # get the max value in the Q_table for the next state\n",
    "    max_q_for_next_state = np.max(q_values[next_position_index, next_velocity_index, :])\n",
    "    # update Q values\n",
    "    q_values[position_index, velocity_index, action] = (1 - ALPHA) * q_values[position_index, velocity_index, action] + ALPHA * (reward + GAMMA * max_q_for_next_state)"
   ]
  },
  {
   "cell_type": "code",
   "execution_count": 7,
   "id": "9c9f29ab",
   "metadata": {},
   "outputs": [],
   "source": [
    "# max number of steps\n",
    "steps_num = 500"
   ]
  },
  {
   "cell_type": "code",
   "execution_count": 8,
   "id": "67f7c07d",
   "metadata": {},
   "outputs": [],
   "source": [
    "def run_render(steps_num):\n",
    "\n",
    "    env = gym.make(\"MountainCar-v0\")\n",
    "    env._max_episode_steps = 501\n",
    "    for i in range(NUM_EPISODES):\n",
    "        # get initial state\n",
    "        state = env.reset()\n",
    "        # set done to false\n",
    "        done = False\n",
    "        # iterate over the steps\n",
    "        for step in range(steps_num):\n",
    "            # render \n",
    "            env.render()\n",
    "\n",
    "            # take an action\n",
    "            action = get_action(state)\n",
    "            # get the next state based on the action\n",
    "            next_state, reward, done, info = env.step(action)\n",
    "            # update q_values\n",
    "            update_q_values(state, action, next_state, reward)\n",
    "            # go to next state\n",
    "            state = next_state\n",
    "            \n",
    "            # if the stopping cond is satisfied, break the loop\n",
    "            if done:\n",
    "                # sleep for 5 secs so i can take a screenshot \n",
    "                time.sleep(5)\n",
    "                # close the window\n",
    "                env.close()\n",
    "\n",
    "                print (\"episode\", i+1 ,\"finished after \", step+1, \"steps.\")\n",
    "                print('number of episodes: ', i+1,'\\nnumber of steps: ', step+1 )\n",
    "                return \n",
    "\n",
    "        print (\"episode\", i+1 ,\"finished after \", step+1, \"steps.\")\n",
    "        \n",
    "        \n",
    "    \n",
    "    return "
   ]
  },
  {
   "cell_type": "code",
   "execution_count": 9,
   "id": "6d5e82ac",
   "metadata": {},
   "outputs": [
    {
     "name": "stdout",
     "output_type": "stream",
     "text": [
      "episode 1 finished after  500 steps.\n",
      "episode 2 finished after  500 steps.\n",
      "episode 3 finished after  500 steps.\n",
      "episode 4 finished after  500 steps.\n",
      "episode 5 finished after  500 steps.\n",
      "episode 6 finished after  500 steps.\n",
      "episode 7 finished after  500 steps.\n",
      "episode 8 finished after  500 steps.\n",
      "episode 9 finished after  500 steps.\n",
      "episode 10 finished after  500 steps.\n",
      "episode 11 finished after  500 steps.\n",
      "episode 12 finished after  500 steps.\n",
      "episode 13 finished after  500 steps.\n",
      "episode 14 finished after  500 steps.\n",
      "episode 15 finished after  500 steps.\n",
      "episode 16 finished after  500 steps.\n",
      "episode 17 finished after  500 steps.\n",
      "episode 18 finished after  500 steps.\n",
      "episode 19 finished after  500 steps.\n",
      "episode 20 finished after  500 steps.\n",
      "episode 21 finished after  500 steps.\n",
      "episode 22 finished after  500 steps.\n",
      "episode 23 finished after  500 steps.\n",
      "episode 24 finished after  500 steps.\n",
      "episode 25 finished after  500 steps.\n",
      "episode 26 finished after  500 steps.\n",
      "episode 27 finished after  500 steps.\n",
      "episode 28 finished after  500 steps.\n",
      "episode 29 finished after  500 steps.\n",
      "episode 30 finished after  500 steps.\n",
      "episode 31 finished after  500 steps.\n",
      "episode 32 finished after  500 steps.\n",
      "episode 33 finished after  500 steps.\n",
      "episode 34 finished after  500 steps.\n",
      "episode 35 finished after  500 steps.\n",
      "episode 36 finished after  500 steps.\n",
      "episode 37 finished after  500 steps.\n",
      "episode 38 finished after  500 steps.\n",
      "episode 39 finished after  500 steps.\n",
      "episode 40 finished after  500 steps.\n",
      "episode 41 finished after  500 steps.\n",
      "episode 42 finished after  500 steps.\n",
      "episode 43 finished after  500 steps.\n",
      "episode 44 finished after  500 steps.\n",
      "episode 45 finished after  500 steps.\n",
      "episode 46 finished after  500 steps.\n",
      "episode 47 finished after  500 steps.\n",
      "episode 48 finished after  500 steps.\n",
      "episode 49 finished after  500 steps.\n",
      "episode 50 finished after  500 steps.\n",
      "episode 51 finished after  370 steps.\n",
      "number of episodes:  51 \n",
      "number of steps:  370\n"
     ]
    }
   ],
   "source": [
    "# run \n",
    "run_render(steps_num)"
   ]
  },
  {
   "cell_type": "code",
   "execution_count": null,
   "id": "48890c7e",
   "metadata": {},
   "outputs": [],
   "source": []
  }
 ],
 "metadata": {
  "kernelspec": {
   "display_name": "Python 3",
   "language": "python",
   "name": "python3"
  },
  "language_info": {
   "codemirror_mode": {
    "name": "ipython",
    "version": 3
   },
   "file_extension": ".py",
   "mimetype": "text/x-python",
   "name": "python",
   "nbconvert_exporter": "python",
   "pygments_lexer": "ipython3",
   "version": "3.8.8"
  }
 },
 "nbformat": 4,
 "nbformat_minor": 5
}
